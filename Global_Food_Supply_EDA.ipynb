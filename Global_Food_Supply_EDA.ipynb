{
 "cells": [
  {
   "cell_type": "code",
   "execution_count": null,
   "metadata": {},
   "outputs": [],
   "source": [
    "import pandas as pd\n",
    "import matplotlib.pyplot as plt\n",
    "import numpy as np\n",
    "import seaborn as sn\n",
    "%matplotlib inline"
   ]
  },
  {
   "cell_type": "code",
   "execution_count": null,
   "metadata": {},
   "outputs": [],
   "source": [
    "# Set the working directory\n",
    "import os\n",
    "os.chdir(r\"C:\\Users\\downloads\\data\")\n",
    "\n",
    "#Read the global_supply_chain.csv data\n",
    "\n",
    "food= pd.read_csv(\"global_supply_chain.csv\")"
   ]
  },
  {
   "cell_type": "code",
   "execution_count": null,
   "metadata": {},
   "outputs": [],
   "source": [
    "# Editing the column names for easy useability in future\n",
    "\n",
    "new_col_names = []\n",
    "for column in food.columns:\n",
    "    column = column.replace(\"Y\", \"\")\n",
    "    column = column.lower()\n",
    "    new_col_names.append(column)\n",
    "food.columns = new_col_names\n",
    "food.columns"
   ]
  },
  {
   "cell_type": "code",
   "execution_count": null,
   "metadata": {},
   "outputs": [],
   "source": [
    "# List of all the counteries in the dataset\n",
    "area_list = list(food['area'].unique())\n",
    "\n",
    "# List of all the years in dataset\n",
    "year_list = list(food.iloc[:,2:].columns)"
   ]
  },
  {
   "cell_type": "code",
   "execution_count": null,
   "metadata": {},
   "outputs": [],
   "source": [
    "# Calculating total food produce by each country in each year.\n",
    "\n",
    "new_df_dict = {}\n",
    "for ar in area_list:\n",
    "    yearly_produce = []\n",
    "    for yr in year_list:\n",
    "        yearly_produce.append(food[yr][food['area']==ar].sum())\n",
    "    new_df_dict[ar] = yearly_produce\n",
    "TotalProduction_foreachcountry = pd.DataFrame(new_df_dict)\n",
    "\n",
    "TotalProduction_foreachcountry.head()"
   ]
  },
  {
   "cell_type": "code",
   "execution_count": null,
   "metadata": {},
   "outputs": [],
   "source": [
    "# Transposing  \n",
    "TotalProduction_foreachcountry = pd.DataFrame.transpose(TotalProduction_foreachcountry)\n",
    "TotalProduction_foreachcountry.columns = year_list\n",
    "\n",
    "TotalProduction_foreachcountry.head()"
   ]
  },
  {
   "cell_type": "code",
   "execution_count": null,
   "metadata": {},
   "outputs": [],
   "source": [
    "# Saving the dataframe on desktop\n",
    "\n",
    "TotalProduction_foreachcountry.to_csv(r'C:\\Users\\kusum\\Desktop\\Cluster.csv')\n"
   ]
  },
  {
   "cell_type": "code",
   "execution_count": null,
   "metadata": {},
   "outputs": [],
   "source": [
    "# Reading the stored file\n",
    "\n",
    "Cluster=pd.read_csv(r'C:\\Users\\kusum\\Desktop\\Cluster.csv')\n",
    "Cluster.head()"
   ]
  },
  {
   "cell_type": "code",
   "execution_count": null,
   "metadata": {},
   "outputs": [],
   "source": [
    "# Taking the production form 1992, to understand the productivity better.\n",
    "# as there has been no data (from 1961 to 1990) for countries formed by USSR intergration \n",
    "# Remove all columns between column index 2 to 31 \n",
    "\n",
    "Cluster.drop(Cluster.iloc[:, 1:32], inplace = True, axis = 1) \n",
    "Cluster.head()"
   ]
  },
  {
   "cell_type": "code",
   "execution_count": null,
   "metadata": {},
   "outputs": [],
   "source": [
    "# finding  countries which were formed in 2006\n",
    "\n",
    "Cluster.loc[Cluster['2006']==0]\n",
    "\n",
    "#  Dropping the country formed in 2006 to maintain data sanity\n",
    "\n",
    "Cluster=Cluster.drop(146)\n",
    "\n",
    "# Sorting the index as a there was a gap in indexing (144,145,147)\n",
    "\n",
    "Cluster.sort_index(inplace=True)\n",
    "#Cluster"
   ]
  },
  {
   "cell_type": "code",
   "execution_count": null,
   "metadata": {},
   "outputs": [],
   "source": [
    "# Assigning name to country column\n",
    "Cluster.rename( columns={'Unnamed: 0':'Country'}, inplace=True )\n",
    "Cluster.head(2)"
   ]
  },
  {
   "cell_type": "code",
   "execution_count": null,
   "metadata": {},
   "outputs": [],
   "source": [
    "# Reading the arable land data\n",
    "arable=pd.read_csv(r'C:\\Users\\kusum\\Desktop\\arable_land.csv',encoding = 'unicode_escape')\n",
    "arable.head()"
   ]
  },
  {
   "cell_type": "code",
   "execution_count": null,
   "metadata": {},
   "outputs": [],
   "source": [
    "# Assigning name to country column\n",
    "arable.rename( columns={'Unnamed: 0':'Country'}, inplace=True )\n",
    "arable.head(2)"
   ]
  },
  {
   "cell_type": "code",
   "execution_count": null,
   "metadata": {},
   "outputs": [],
   "source": [
    "# Merging the datasets\n",
    "\n",
    "Cluster=pd.merge(Cluster, arable, on=\"Country\")"
   ]
  },
  {
   "cell_type": "code",
   "execution_count": null,
   "metadata": {},
   "outputs": [],
   "source": [
    "## A new column which indicates mean produce of each country over the given years. \n",
    "\n",
    "mean_produce = []\n",
    "for i in range(171):\n",
    "    mean_produce.append(Cluster.iloc[i,1:-1].values.mean())\n",
    "Cluster['Mean_Produce'] = mean_produce  "
   ]
  },
  {
   "cell_type": "code",
   "execution_count": null,
   "metadata": {},
   "outputs": [],
   "source": [
    "# Final Desired Dataset\n",
    "\n",
    "Cluster.head()"
   ]
  },
  {
   "cell_type": "code",
   "execution_count": null,
   "metadata": {},
   "outputs": [],
   "source": [
    "# Plotting a scatter plot  to see the relation between arable land and cultivation land.\n",
    "\n",
    "plt.scatter(Cluster.iloc[:,-2], Cluster.iloc[:,-1])\n",
    "plt.xlabel('Arable Land')\n",
    "plt.ylabel('Cultivation Land')\n",
    "plt.grid()"
   ]
  },
  {
   "cell_type": "code",
   "execution_count": null,
   "metadata": {},
   "outputs": [],
   "source": [
    "# The plots shows 3 outliers lets sort and check which coutires stand as outliers.\n",
    "\n",
    "merged=pd.read_csv(r'C:\\Users\\kusum\\Desktop\\merged.csv')\n",
    "Cluster=merged\n",
    "final=merged\n",
    "Cluster=Cluster.sort_values(by=['Mean_Produce'], ascending=False)\n",
    "#Cluster.head()"
   ]
  },
  {
   "cell_type": "code",
   "execution_count": null,
   "metadata": {},
   "outputs": [],
   "source": [
    "# India,China and USA are the outliers , so lets drop and then see the spread more clearly\n",
    "\n",
    "Cluster.drop(Cluster.index[[0,1,2]],inplace=True,axis=0)\n",
    "Cluster.head() "
   ]
  },
  {
   "cell_type": "code",
   "execution_count": null,
   "metadata": {},
   "outputs": [],
   "source": [
    "plt.scatter(Cluster.iloc[:,-2], Cluster.iloc[:,-1])\n",
    "plt.xlabel('Arable Land')\n",
    "plt.ylabel('Cultivation Land')\n",
    "plt.yticks(np.arange(0,250000,10000))\n",
    "plt.grid()"
   ]
  },
  {
   "cell_type": "markdown",
   "metadata": {},
   "source": []
  }
 ],
 "metadata": {
  "kernelspec": {
   "display_name": "Python 3",
   "language": "python",
   "name": "python3"
  },
  "language_info": {
   "codemirror_mode": {
    "name": "ipython",
    "version": 3
   },
   "file_extension": ".py",
   "mimetype": "text/x-python",
   "name": "python",
   "nbconvert_exporter": "python",
   "pygments_lexer": "ipython3",
   "version": "3.7.3"
  }
 },
 "nbformat": 4,
 "nbformat_minor": 2
}
